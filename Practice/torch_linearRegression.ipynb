{
  "nbformat": 4,
  "nbformat_minor": 0,
  "metadata": {
    "colab": {
      "provenance": [],
      "collapsed_sections": [],
      "authorship_tag": "ABX9TyM7ekB/B6Ait/597Cfdcs72",
      "include_colab_link": true
    },
    "kernelspec": {
      "name": "python3",
      "display_name": "Python 3"
    },
    "language_info": {
      "name": "python"
    }
  },
  "cells": [
    {
      "cell_type": "markdown",
      "metadata": {
        "id": "view-in-github",
        "colab_type": "text"
      },
      "source": [
        "<a href=\"https://colab.research.google.com/github/softn12/Python/blob/main/Practice/torch_linearRegression.ipynb\" target=\"_parent\"><img src=\"https://colab.research.google.com/assets/colab-badge.svg\" alt=\"Open In Colab\"/></a>"
      ]
    },
    {
      "cell_type": "code",
      "execution_count": null,
      "metadata": {
        "id": "84YJNwYjZ5_K"
      },
      "outputs": [],
      "source": [
        "import torch\n",
        "import torch.optim as optim"
      ]
    },
    {
      "cell_type": "code",
      "source": [
        "x_train = torch.FloatTensor([[5],[7],[10],[15],[17],[20]])\n",
        "y_train = torch.FloatTensor([[50],[61],[73],[91],[94],[99]])"
      ],
      "metadata": {
        "id": "KLXaOtDUcVVr"
      },
      "execution_count": null,
      "outputs": []
    },
    {
      "cell_type": "code",
      "source": [
        "W = torch.zeros(1, requires_grad=True)\n",
        "b = torch.zeros(1, requires_grad=True)"
      ],
      "metadata": {
        "id": "BDJYNf-Gcegj"
      },
      "execution_count": null,
      "outputs": []
    },
    {
      "cell_type": "code",
      "source": [
        "optimizer = optim.SGD([W,b], lr = 0.001)"
      ],
      "metadata": {
        "id": "3i69L8X_gMrw"
      },
      "execution_count": null,
      "outputs": []
    },
    {
      "cell_type": "code",
      "source": [
        "epoch = 20000\n",
        "for i in range(epoch):\n",
        "  hypothesis = x_train * W + b\n",
        "  cost = torch.mean((hypothesis - y_train)**2)\n",
        "\n",
        "  optimizer.zero_grad()\n",
        "\n",
        "  cost.backward()\n",
        "\n",
        "  optimizer.step()\n",
        "\n",
        "  if(i+1) % 2000 == 0:\n",
        "    print('Epoch {:4d}/{} W: {:.3f}, b:{:.3f} Cost:{:.6f}'.format(\n",
        "        i+1, epoch, W.item(), b.item(), cost.item()))"
      ],
      "metadata": {
        "colab": {
          "base_uri": "https://localhost:8080/"
        },
        "id": "hgRxz0z2evjc",
        "outputId": "e0fd54cd-e609-4ab2-c8d6-14b28112f785"
      },
      "execution_count": null,
      "outputs": [
        {
          "output_type": "stream",
          "name": "stdout",
          "text": [
            "Epoch 2000/20000 W: 4.620, b:17.894 Cost:70.752632\n",
            "Epoch 4000/20000 W: 3.993, b:27.105 Cost:26.661470\n",
            "Epoch 6000/20000 W: 3.663, b:31.954 Cost:14.445102\n",
            "Epoch 8000/20000 W: 3.490, b:34.506 Cost:11.060265\n",
            "Epoch 10000/20000 W: 3.398, b:35.849 Cost:10.122443\n",
            "Epoch 12000/20000 W: 3.350, b:36.556 Cost:9.862590\n",
            "Epoch 14000/20000 W: 3.325, b:36.929 Cost:9.790587\n",
            "Epoch 16000/20000 W: 3.311, b:37.124 Cost:9.770646\n",
            "Epoch 18000/20000 W: 3.304, b:37.228 Cost:9.765106\n",
            "Epoch 20000/20000 W: 3.301, b:37.282 Cost:9.763583\n"
          ]
        }
      ]
    },
    {
      "cell_type": "code",
      "source": [
        "#test set 입력\n",
        "test_input = torch.FloatTensor([[13]])\n",
        "result = test_input * W + b\n",
        "print(result)"
      ],
      "metadata": {
        "colab": {
          "base_uri": "https://localhost:8080/"
        },
        "id": "NwkkXHHdhwL3",
        "outputId": "1678ad83-3a6c-47fe-de25-18d668c0e26d"
      },
      "execution_count": null,
      "outputs": [
        {
          "output_type": "stream",
          "name": "stdout",
          "text": [
            "tensor([[80.1908]], grad_fn=<AddBackward0>)\n"
          ]
        }
      ]
    },
    {
      "cell_type": "code",
      "source": [],
      "metadata": {
        "id": "GgSHP_anjAyB"
      },
      "execution_count": null,
      "outputs": []
    }
  ]
}