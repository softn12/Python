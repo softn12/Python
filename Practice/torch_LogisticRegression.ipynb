{
  "nbformat": 4,
  "nbformat_minor": 0,
  "metadata": {
    "colab": {
      "provenance": [],
      "collapsed_sections": [],
      "authorship_tag": "ABX9TyNqAPYeMGUVyxF2gDqhxIVU",
      "include_colab_link": true
    },
    "kernelspec": {
      "name": "python3",
      "display_name": "Python 3"
    },
    "language_info": {
      "name": "python"
    }
  },
  "cells": [
    {
      "cell_type": "markdown",
      "metadata": {
        "id": "view-in-github",
        "colab_type": "text"
      },
      "source": [
        "<a href=\"https://colab.research.google.com/github/softn12/Python/blob/main/Practice/torch_LogisticRegression.ipynb\" target=\"_parent\"><img src=\"https://colab.research.google.com/assets/colab-badge.svg\" alt=\"Open In Colab\"/></a>"
      ]
    },
    {
      "cell_type": "code",
      "execution_count": null,
      "metadata": {
        "id": "G9F3tX_ppjhw"
      },
      "outputs": [],
      "source": [
        "import torch\n",
        "import torch.nn.functional as F\n",
        "import torch.optim as optim"
      ]
    },
    {
      "cell_type": "code",
      "source": [
        "x_train = torch.FloatTensor([[5],[13],[15],[17],[20],[21]])\n",
        "y_train = torch.FloatTensor([[0],[0],[0],[1],[1],[1]])"
      ],
      "metadata": {
        "id": "PSlGSdjBsCeC"
      },
      "execution_count": null,
      "outputs": []
    },
    {
      "cell_type": "code",
      "source": [
        "W = torch.zeros(1, requires_grad=True)\n",
        "b = torch.zeros(1, requires_grad=True)"
      ],
      "metadata": {
        "id": "I3FGAdfGsV7T"
      },
      "execution_count": null,
      "outputs": []
    },
    {
      "cell_type": "code",
      "source": [
        "#Optimizer definition\n",
        "#lr : Learning rate\n",
        "optimizer = optim.SGD([W,b],lr=0.1)"
      ],
      "metadata": {
        "id": "itUbkhzwt20d"
      },
      "execution_count": null,
      "outputs": []
    },
    {
      "cell_type": "code",
      "source": [
        "epochs = 20000\n",
        "for i in range(epochs):\n",
        "  hypothesis = torch.sigmoid(x_train * W + b)\n",
        "  cost = F.binary_cross_entropy(hypothesis, y_train)\n",
        "\n",
        "  optimizer.zero_grad()\n",
        "  cost.backward()\n",
        "  optimizer.step()\n",
        "\n",
        "  if(i+1) % 2000 == 0:\n",
        "    print('Epoch {:4d}/{}, W : {:.3f}, b {:.3f}, Cost : {:.6f}'.format(\n",
        "        i+1, epochs, W.item(), b.item(), cost.item()))"
      ],
      "metadata": {
        "colab": {
          "base_uri": "https://localhost:8080/"
        },
        "id": "OFUt4w7TsiQD",
        "outputId": "86420046-fc35-4391-ec15-ad65b4e1558e"
      },
      "execution_count": null,
      "outputs": [
        {
          "output_type": "stream",
          "name": "stdout",
          "text": [
            "Epoch 2000/20000, W : 1.695, b -27.068, Cost : 0.057542\n",
            "Epoch 4000/20000, W : 1.738, b -27.749, Cost : 0.055215\n",
            "Epoch 6000/20000, W : 1.779, b -28.401, Cost : 0.053076\n",
            "Epoch 8000/20000, W : 1.818, b -29.028, Cost : 0.051102\n",
            "Epoch 10000/20000, W : 1.856, b -29.632, Cost : 0.049273\n",
            "Epoch 12000/20000, W : 1.892, b -30.214, Cost : 0.047573\n",
            "Epoch 14000/20000, W : 1.927, b -30.776, Cost : 0.045987\n",
            "Epoch 16000/20000, W : 1.961, b -31.319, Cost : 0.044505\n",
            "Epoch 18000/20000, W : 1.994, b -31.845, Cost : 0.043116\n",
            "Epoch 20000/20000, W : 2.026, b -32.355, Cost : 0.041812\n"
          ]
        }
      ]
    },
    {
      "cell_type": "code",
      "source": [
        "test_input = torch.FloatTensor([[16]])\n",
        "result = torch.sigmoid(test_input * W + b)\n",
        "print(result)"
      ],
      "metadata": {
        "colab": {
          "base_uri": "https://localhost:8080/"
        },
        "id": "7cCmEpLjuH0L",
        "outputId": "5782c96b-4af6-4dc5-afe0-022511e20536"
      },
      "execution_count": null,
      "outputs": [
        {
          "output_type": "stream",
          "name": "stdout",
          "text": [
            "tensor([[0.5157]], grad_fn=<SigmoidBackward0>)\n"
          ]
        }
      ]
    },
    {
      "cell_type": "code",
      "source": [
        "#기준점과 결과값 True/False로 분류\n",
        "threshold = 0.5\n",
        "predict = result >= torch.FloatTensor([threshold])\n",
        "print(predict)"
      ],
      "metadata": {
        "colab": {
          "base_uri": "https://localhost:8080/"
        },
        "id": "mvcu1_Piu4qy",
        "outputId": "e824b7de-6bb1-403c-b56e-bc62d1bfb8cb"
      },
      "execution_count": null,
      "outputs": [
        {
          "output_type": "stream",
          "name": "stdout",
          "text": [
            "tensor([[True]])\n"
          ]
        }
      ]
    },
    {
      "cell_type": "code",
      "source": [
        "  "
      ],
      "metadata": {
        "id": "7HzvEWMHvLHn"
      },
      "execution_count": null,
      "outputs": []
    }
  ]
}